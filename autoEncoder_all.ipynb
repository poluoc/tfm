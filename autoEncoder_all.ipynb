{
 "cells": [
  {
   "cell_type": "markdown",
   "metadata": {},
   "source": [
    "## Autoencoder"
   ]
  },
  {
   "cell_type": "code",
   "execution_count": null,
   "metadata": {},
   "outputs": [],
   "source": [
    "import pandas as pd \n",
    "import numpy as np \n",
    "import pickle \n",
    "import matplotlib.pyplot as plt \n",
    "import tensorflow as tf "
   ]
  },
  {
   "cell_type": "code",
   "execution_count": null,
   "metadata": {},
   "outputs": [],
   "source": [
    "from sklearn.model_selection import train_test_split \n",
    "from sklearn.preprocessing import StandardScaler\n",
    "from keras.models import Model, load_model\n",
    "from keras.layers import Input, Dense\n",
    "from keras.callbacks import ModelCheckpoint, TensorBoard\n",
    "from keras import regularizers\n",
    "from sklearn.metrics import accuracy_score, confusion_matrix, precision_recall_curve, auc, roc_curve, recall_score, classification_report, f1_score, precision_recall_fscore_support"
   ]
  },
  {
   "cell_type": "code",
   "execution_count": null,
   "metadata": {},
   "outputs": [],
   "source": [
    "%matplotlib inline \n",
    "sns.set(style = 'darkgrid', palette = 'pastel', font_scale = 1.5)\n",
    "LABELS = ['Non-Fraud', 'Fraud']"
   ]
  },
  {
   "cell_type": "markdown",
   "metadata": {},
   "source": [
    "### Data"
   ]
  },
  {
   "cell_type": "code",
   "execution_count": null,
   "metadata": {},
   "outputs": [],
   "source": [
    "data = pd.read_csv('data_creditCardFraud.csv')\n",
    "data['Amount'] = StandardScaler().fit_transform(data['Amount'].values.reshape(-1, 1))\n",
    "data.head()"
   ]
  },
  {
   "cell_type": "code",
   "execution_count": null,
   "metadata": {},
   "outputs": [],
   "source": [
    "# Splitting Data to Train and Test\n",
    "# We also drop feature time because it is different from every transacion and does not \n",
    "y = data.Class\n",
    "X = data.drop(['Class','Time'], axis=1)\n",
    "\n",
    "X_train, X_test, y_train, y_test = train_test_split(X, y, test_size=0.2, random_state=777)\n",
    "X_train, X_val, y_train, y_val = train_test_split(X_train, y_train, test_size=0.2, random_state=777)"
   ]
  },
  {
   "cell_type": "markdown",
   "metadata": {},
   "source": [
    "### Model"
   ]
  },
  {
   "cell_type": "markdown",
   "metadata": {},
   "source": [
    "Autoencoder uses 4 fully connected layers:\n",
    "\n",
    "14 neurons (encoder)\n",
    "7 neurons (encoder)\n",
    "7 neurons (decoder)\n",
    "29 neurons (decoder)\n",
    "Usage of L1 regularization.\n",
    "\n",
    "TRAINING THE MODEL\n",
    "\n",
    "number of epochs = 100\n",
    "batch_size = 2048"
   ]
  },
  {
   "cell_type": "code",
   "execution_count": null,
   "metadata": {},
   "outputs": [],
   "source": [
    "input_dim = X_train.shape[1] # 29\n",
    "encoding_dim = 14 \n",
    "input_layer = Input(shape = (input_dim, ))\n",
    "encoder = Dense(encoding_dim, activation = 'tanh',\n",
    "               activity_regularizer = regularizers.l1(10e-5))(input_layer)\n",
    "print(encoder)\n",
    "encoder = Dense(int(encoding_dim/2), activation = 'relu')(encoder)\n",
    "print(encoder)\n",
    "decoder = Dense(int(encoding_dim/2), activation = 'tanh')(encoder)\n",
    "print(decoder)\n",
    "decoder = Dense(input_dim, activation = 'relu')(decoder)\n",
    "print(decoder)\n",
    "autoencoder = Model(inputs = input_layer, outputs = decoder)\n",
    "print(autoencoder)"
   ]
  },
  {
   "cell_type": "code",
   "execution_count": null,
   "metadata": {},
   "outputs": [],
   "source": [
    "nb_epochs = 100\n",
    "batch_size = 2048 # \n",
    "autoencoder.compile(optimizer = 'adam', loss = 'mean_squared_error', \n",
    "                   metrics = ['accuracy'])\n",
    "checkpointer = ModelCheckpoint(filepath = 'autoencoder_creditCardFraud.h5',\n",
    "                              verbose = 0,\n",
    "                              save_best_only = True)\n",
    "tensorboard = TensorBoard(log_dir = './logs',\n",
    "                         histogram_freq = 0, \n",
    "                         write_graph = True,\n",
    "                         write_images = True)"
   ]
  },
  {
   "cell_type": "code",
   "execution_count": null,
   "metadata": {},
   "outputs": [],
   "source": [
    "history = autoencoder.fit(X_train, X_train, epochs = nb_epochs, \n",
    "                         batch_size = batch_size,\n",
    "                         shuffle = True,\n",
    "                         validation_data = (X_val, X_val),\n",
    "                         verbose = 1,\n",
    "                         callbacks = [checkpointer, tensorboard]).history"
   ]
  },
  {
   "cell_type": "code",
   "execution_count": null,
   "metadata": {},
   "outputs": [],
   "source": [
    "autoencoder.summary()"
   ]
  },
  {
   "cell_type": "code",
   "execution_count": null,
   "metadata": {},
   "outputs": [],
   "source": [
    "autoencoder.save('creditCardFraud_autoencoder_originalData.h5')"
   ]
  },
  {
   "cell_type": "code",
   "execution_count": null,
   "metadata": {},
   "outputs": [],
   "source": [
    "predictions = autoencoder.predict(X_test)"
   ]
  },
  {
   "cell_type": "code",
   "execution_count": null,
   "metadata": {},
   "outputs": [],
   "source": [
    "mse = np.mean(np.power(X_test - predictions, 2), axis = 1)\n",
    "error_df = pd.DataFrame({'reconstruction_error':mse, 'true_class':y_test})\n",
    "fpr, tpr, thresholds = roc_curve(error_df.true_class, error_df.reconstruction_error)\n",
    "roc_auc = auc(fpr, tpr)\n",
    "error_df.describe()"
   ]
  },
  {
   "cell_type": "code",
   "execution_count": null,
   "metadata": {},
   "outputs": [],
   "source": [
    "threshold = 2.5\n",
    "y_pred = [1 if e > threshold else 0 for e in error_df.reconstruction_error.values]"
   ]
  },
  {
   "cell_type": "code",
   "execution_count": null,
   "metadata": {},
   "outputs": [],
   "source": [
    "print(\"Accuracy: \", accuracy_score(y_test, y_pred))\n",
    "print(\"Recall: \", recall_score(y_test, y_pred))"
   ]
  },
  {
   "cell_type": "markdown",
   "metadata": {},
   "source": [
    "### Undersampled"
   ]
  },
  {
   "cell_type": "code",
   "execution_count": null,
   "metadata": {},
   "outputs": [],
   "source": [
    "und = pd.read_csv(\"cardFraud_X_train_undersampled.csv\")\n",
    "und_y = pd.read_csv(\"cardFraud_Y_train_undersampled.csv\")\n",
    "und['Class'] = und_y\n",
    "\n",
    "\n",
    "print(len(und))\n",
    "print(und['Class'].value_counts())\n",
    "und.head()"
   ]
  },
  {
   "cell_type": "code",
   "execution_count": null,
   "metadata": {},
   "outputs": [],
   "source": [
    "y_und = und.Class\n",
    "X_und = und.drop(['Class'], axis=1)\n",
    "X_train_und, X_val_und, y_train_und, y_val_und = train_test_split(X_und, y_und, test_size=0.2, random_state=777)"
   ]
  },
  {
   "cell_type": "code",
   "execution_count": null,
   "metadata": {},
   "outputs": [],
   "source": [
    "input_dim = X_train_und.shape[1] # 29\n",
    "encoding_dim = 14 \n",
    "input_layer_und = Input(shape = (input_dim, ))\n",
    "encoder_und = Dense(encoding_dim, activation = 'tanh',\n",
    "               activity_regularizer = regularizers.l1(10e-5))(input_layer_und)\n",
    "print(encoder_und)\n",
    "encoder_und = Dense(int(encoding_dim/2), activation = 'relu')(encoder_und)\n",
    "print(encoder_und)\n",
    "decoder_und = Dense(int(encoding_dim/2), activation = 'tanh')(encoder_und)\n",
    "print(decoder_und)\n",
    "decoder_und = Dense(input_dim, activation = 'relu')(decoder_und)\n",
    "print(decoder_und)\n",
    "autoencoder_und = Model(inputs = input_layer_und, outputs = decoder_und)\n",
    "print(autoencoder_und)"
   ]
  },
  {
   "cell_type": "code",
   "execution_count": null,
   "metadata": {},
   "outputs": [],
   "source": [
    "nb_epochs = 100\n",
    "batch_size = 64 # \n",
    "autoencoder_und.compile(optimizer = 'adam', loss = 'mean_squared_error', \n",
    "                   metrics = ['accuracy'])\n",
    "checkpointer = ModelCheckpoint(filepath = 'autoencoder_creditCardFraud.h5',\n",
    "                              verbose = 0,\n",
    "                              save_best_only = True)\n",
    "tensorboard = TensorBoard(log_dir = './logs',\n",
    "                         histogram_freq = 0, \n",
    "                         write_graph = True,\n",
    "                         write_images = True)"
   ]
  },
  {
   "cell_type": "code",
   "execution_count": null,
   "metadata": {},
   "outputs": [],
   "source": [
    "history = autoencoder_und.fit(X_train_und, X_train_und, epochs = nb_epochs, \n",
    "                         batch_size = batch_size,\n",
    "                         shuffle = True,\n",
    "                         validation_data = (X_val_und, X_val_und),\n",
    "                         verbose = 1,\n",
    "                         callbacks = [checkpointer, tensorboard]).history"
   ]
  },
  {
   "cell_type": "code",
   "execution_count": null,
   "metadata": {},
   "outputs": [],
   "source": [
    "autoencoder_und.save('creditCardFraud_autoencoder_und.h5')"
   ]
  },
  {
   "cell_type": "code",
   "execution_count": null,
   "metadata": {},
   "outputs": [],
   "source": [
    "predictions_und = autoencoder_und.predict(X_test)"
   ]
  },
  {
   "cell_type": "code",
   "execution_count": null,
   "metadata": {},
   "outputs": [],
   "source": [
    "mse = np.mean(np.power(X_test - predictions_und, 2), axis = 1)\n",
    "error_df = pd.DataFrame({'reconstruction_error':mse, 'true_class':y_test})\n",
    "fpr, tpr, thresholds = roc_curve(error_df.true_class, error_df.reconstruction_error)\n",
    "roc_auc = auc(fpr, tpr)\n",
    "error_df.describe()"
   ]
  },
  {
   "cell_type": "code",
   "execution_count": null,
   "metadata": {},
   "outputs": [],
   "source": [
    "threshold = 2.5\n",
    "y_pred = [1 if e > threshold else 0 for e in error_df.reconstruction_error.values]\n",
    "print(\"Accuracy: \", accuracy_score(y_test, y_pred))\n",
    "print(\"Recall: \", recall_score(y_test, y_pred))"
   ]
  },
  {
   "cell_type": "markdown",
   "metadata": {},
   "source": [
    "### Oversampled"
   ]
  },
  {
   "cell_type": "code",
   "execution_count": null,
   "metadata": {},
   "outputs": [],
   "source": [
    "over = pd.read_csv(\"cardFraud_X_train_oversampled.csv\")\n",
    "over_y = pd.read_csv(\"cardFraud_Y_train_oversampled.csv\")\n",
    "over['Class'] = over_y\n",
    "\n",
    "print(len(over))\n",
    "print(over['Class'].value_counts())\n",
    "over.head()"
   ]
  },
  {
   "cell_type": "code",
   "execution_count": null,
   "metadata": {},
   "outputs": [],
   "source": [
    "y_over = over.Class\n",
    "X_over = over.drop(['Class'], axis=1)\n",
    "X_train_over, X_val_over, y_train_over, y_val_over = train_test_split(X_over, y_over, test_size=0.2, random_state=777)"
   ]
  },
  {
   "cell_type": "code",
   "execution_count": null,
   "metadata": {},
   "outputs": [],
   "source": [
    "input_dim = X_train_over.shape[1] # 29\n",
    "encoding_dim = 14 \n",
    "input_layer_over = Input(shape = (input_dim, ))\n",
    "encoder_over = Dense(encoding_dim, activation = 'tanh',\n",
    "               activity_regularizer = regularizers.l1(10e-5))(input_layer_over)\n",
    "print(encoder_over)\n",
    "encoder_over = Dense(int(encoding_dim/2), activation = 'relu')(encoder_over)\n",
    "print(encoder_over)\n",
    "decoder_over = Dense(int(encoding_dim/2), activation = 'tanh')(encoder_over)\n",
    "print(decoder_over)\n",
    "decoder_over = Dense(input_dim, activation = 'relu')(decoder_over)\n",
    "print(decoder_over)\n",
    "autoencoder_over = Model(inputs = input_layer_over, outputs = decoder_over)\n",
    "print(autoencoder_over)"
   ]
  },
  {
   "cell_type": "code",
   "execution_count": null,
   "metadata": {},
   "outputs": [],
   "source": [
    "nb_epochs = 100\n",
    "batch_size = 2048 # \n",
    "autoencoder_over.compile(optimizer = 'adam', loss = 'mean_squared_error', \n",
    "                   metrics = ['accuracy'])\n",
    "checkpointer = ModelCheckpoint(filepath = 'creditCardFraud_over.h5',\n",
    "                              verbose = 0,\n",
    "                              save_best_only = True)\n",
    "tensorboard = TensorBoard(log_dir = './logs',\n",
    "                         histogram_freq = 0, \n",
    "                         write_graph = True,\n",
    "                         write_images = True)"
   ]
  },
  {
   "cell_type": "code",
   "execution_count": null,
   "metadata": {},
   "outputs": [],
   "source": [
    "history = autoencoder_over.fit(X_train_over, X_train_over, epochs = nb_epochs, \n",
    "                         batch_size = batch_size,\n",
    "                         shuffle = True,\n",
    "                         validation_data = (X_val_over, X_val_over),\n",
    "                         verbose = 1,\n",
    "                         callbacks = [checkpointer, tensorboard]).history"
   ]
  },
  {
   "cell_type": "code",
   "execution_count": null,
   "metadata": {},
   "outputs": [],
   "source": [
    "autoencoder_over.save('creditCardFraud_autoencoder_over.h5')"
   ]
  },
  {
   "cell_type": "code",
   "execution_count": null,
   "metadata": {},
   "outputs": [],
   "source": [
    "predictions_over = autoencoder_over.predict(X_test)"
   ]
  },
  {
   "cell_type": "code",
   "execution_count": null,
   "metadata": {},
   "outputs": [],
   "source": [
    "mse = np.mean(np.power(X_test - predictions_over, 2), axis = 1)\n",
    "error_df = pd.DataFrame({'reconstruction_error':mse, 'true_class':y_test})\n",
    "fpr, tpr, thresholds = roc_curve(error_df.true_class, error_df.reconstruction_error)\n",
    "roc_auc = auc(fpr, tpr)\n",
    "error_df.describe()"
   ]
  },
  {
   "cell_type": "code",
   "execution_count": null,
   "metadata": {},
   "outputs": [],
   "source": [
    "threshold = 2.5\n",
    "y_pred = [1 if e > threshold else 0 for e in error_df.reconstruction_error.values]\n",
    "print(\"Accuracy: \", accuracy_score(y_test, y_pred))\n",
    "print(\"Recall: \", recall_score(y_test, y_pred))"
   ]
  },
  {
   "cell_type": "markdown",
   "metadata": {},
   "source": [
    "### Oversampled v2"
   ]
  },
  {
   "cell_type": "code",
   "execution_count": null,
   "metadata": {},
   "outputs": [],
   "source": [
    "over2 = pd.read_csv(\"cardFraud_X_train_oversampled_v2.csv\")\n",
    "over2_y = pd.read_csv(\"cardFraud_Y_train_oversampled_v2.csv\")\n",
    "over2['Class'] = over2_y\n",
    "\n",
    "print(len(over2))\n",
    "print(over2['Class'].value_counts())\n",
    "over2.head()"
   ]
  },
  {
   "cell_type": "code",
   "execution_count": null,
   "metadata": {},
   "outputs": [],
   "source": [
    "y_over2 = over2.Class\n",
    "X_over2 = over2.drop(['Class'], axis=1)\n",
    "X_train_over2, X_val_over2, y_train_over2, y_val_over2 = train_test_split(X_over2, y_over2, test_size=0.2, random_state=777)"
   ]
  },
  {
   "cell_type": "code",
   "execution_count": null,
   "metadata": {},
   "outputs": [],
   "source": [
    "input_dim = X_train_over2.shape[1] # 29\n",
    "encoding_dim = 14 \n",
    "input_layer_over2 = Input(shape = (input_dim, ))\n",
    "encoder_over2 = Dense(encoding_dim, activation = 'tanh',\n",
    "               activity_regularizer = regularizers.l1(10e-5))(input_layer_over2)\n",
    "print(encoder_over2)\n",
    "encoder_over2 = Dense(int(encoding_dim/2), activation = 'relu')(encoder_over2)\n",
    "print(encoder_over2)\n",
    "decoder_over2 = Dense(int(encoding_dim/2), activation = 'tanh')(encoder_over2)\n",
    "print(decoder_over2)\n",
    "decoder_over2 = Dense(input_dim, activation = 'relu')(decoder_over2)\n",
    "print(decoder_over2)\n",
    "autoencoder_over2 = Model(inputs = input_layer_over2, outputs = decoder_over2)\n",
    "print(autoencoder_over2)"
   ]
  },
  {
   "cell_type": "code",
   "execution_count": null,
   "metadata": {},
   "outputs": [],
   "source": [
    "nb_epochs = 100\n",
    "batch_size = 2048 # \n",
    "autoencoder_over2.compile(optimizer = 'adam', loss = 'mean_squared_error', \n",
    "                   metrics = ['accuracy'])\n",
    "checkpointer = ModelCheckpoint(filepath = 'creditCardFraud_over2.h5',\n",
    "                              verbose = 0,\n",
    "                              save_best_only = True)\n",
    "tensorboard = TensorBoard(log_dir = './logs',\n",
    "                         histogram_freq = 0, \n",
    "                         write_graph = True,\n",
    "                         write_images = True)"
   ]
  },
  {
   "cell_type": "code",
   "execution_count": null,
   "metadata": {},
   "outputs": [],
   "source": [
    "history = autoencoder_over2.fit(X_train_over2, X_train_over2, epochs = nb_epochs, \n",
    "                         batch_size = batch_size,\n",
    "                         shuffle = True,\n",
    "                         validation_data = (X_val_over2, X_val_over2),\n",
    "                         verbose = 1,\n",
    "                         callbacks = [checkpointer, tensorboard]).history"
   ]
  },
  {
   "cell_type": "code",
   "execution_count": null,
   "metadata": {},
   "outputs": [],
   "source": [
    "autoencoder_over2.save('creditCardFraud_autoencoder_over2.h5')"
   ]
  },
  {
   "cell_type": "code",
   "execution_count": null,
   "metadata": {},
   "outputs": [],
   "source": [
    "predictions_over2 = autoencoder_over2.predict(X_test)"
   ]
  },
  {
   "cell_type": "code",
   "execution_count": null,
   "metadata": {},
   "outputs": [],
   "source": [
    "mse = np.mean(np.power(X_test - predictions_over2, 2), axis = 1)\n",
    "error_df = pd.DataFrame({'reconstruction_error':mse, 'true_class':y_test})\n",
    "fpr, tpr, thresholds = roc_curve(error_df.true_class, error_df.reconstruction_error)\n",
    "roc_auc = auc(fpr, tpr)\n",
    "error_df.describe()"
   ]
  },
  {
   "cell_type": "code",
   "execution_count": null,
   "metadata": {},
   "outputs": [],
   "source": [
    "threshold = 2.5\n",
    "y_pred = [1 if e > threshold else 0 for e in error_df.reconstruction_error.values]\n",
    "print(\"Accuracy: \", accuracy_score(y_test, y_pred))\n",
    "print(\"Recall: \", recall_score(y_test, y_pred))"
   ]
  },
  {
   "cell_type": "markdown",
   "metadata": {},
   "source": [
    "### Oversampled SMOTE"
   ]
  },
  {
   "cell_type": "code",
   "execution_count": null,
   "metadata": {},
   "outputs": [],
   "source": [
    "sin = pd.read_csv(\"cardFraud_X_train_oversampled_syntethic.csv\")\n",
    "sin_y = pd.read_csv(\"cardFraud_Y_train_oversampled_syntethic.csv\")\n",
    "sin['Class'] = sin_y\n",
    "\n",
    "print(len(sin))\n",
    "print(sin['Class'].value_counts())\n",
    "sin.head()"
   ]
  },
  {
   "cell_type": "code",
   "execution_count": null,
   "metadata": {},
   "outputs": [],
   "source": [
    "y_sin = sin.Class\n",
    "X_sin = sin.drop(['Class'], axis=1)\n",
    "X_train_sin, X_val_sin, y_train_sin, y_val_sin = train_test_split(X_sin, y_sin, test_size=0.2, random_state=777)"
   ]
  },
  {
   "cell_type": "code",
   "execution_count": null,
   "metadata": {},
   "outputs": [],
   "source": [
    "input_dim = X_train_sin.shape[1] # 29\n",
    "encoding_dim = 14 \n",
    "input_layer_sin = Input(shape = (input_dim, ))\n",
    "encoder_sin = Dense(encoding_dim, activation = 'tanh',\n",
    "               activity_regularizer = regularizers.l1(10e-5))(input_layer_sin)\n",
    "print(encoder_sin)\n",
    "encoder_sin = Dense(int(encoding_dim/2), activation = 'relu')(encoder_sin)\n",
    "print(encoder_sin)\n",
    "decoder_sin = Dense(int(encoding_dim/2), activation = 'tanh')(encoder_sin)\n",
    "print(decoder_sin)\n",
    "decoder_sin = Dense(input_dim, activation = 'relu')(decoder_sin)\n",
    "print(decoder_sin)\n",
    "autoencoder_sin = Model(inputs = input_layer_sin, outputs = decoder_sin)\n",
    "print(autoencoder_sin)"
   ]
  },
  {
   "cell_type": "code",
   "execution_count": null,
   "metadata": {},
   "outputs": [],
   "source": [
    "nb_epochs = 100\n",
    "batch_size = 2048 # \n",
    "autoencoder_sin.compile(optimizer = 'adam', loss = 'mean_squared_error', \n",
    "                   metrics = ['accuracy'])\n",
    "checkpointer = ModelCheckpoint(filepath = 'creditCardFraud_sin.h5',\n",
    "                              verbose = 0,\n",
    "                              save_best_only = True)\n",
    "tensorboard = TensorBoard(log_dir = './logs',\n",
    "                         histogram_freq = 0, \n",
    "                         write_graph = True,\n",
    "                         write_images = True)"
   ]
  },
  {
   "cell_type": "code",
   "execution_count": null,
   "metadata": {},
   "outputs": [],
   "source": [
    "history = autoencoder_sin.fit(X_train_sin, X_train_sin, epochs = nb_epochs, \n",
    "                         batch_size = batch_size,\n",
    "                         shuffle = True,\n",
    "                         validation_data = (X_val_sin, X_val_sin),\n",
    "                         verbose = 1,\n",
    "                         callbacks = [checkpointer, tensorboard]).history"
   ]
  },
  {
   "cell_type": "code",
   "execution_count": null,
   "metadata": {},
   "outputs": [],
   "source": [
    "autoencoder_sin.save('creditCardFraud_autoencoder_sin.h5')"
   ]
  },
  {
   "cell_type": "code",
   "execution_count": null,
   "metadata": {},
   "outputs": [],
   "source": [
    "predictions_sin = autoencoder_sin.predict(X_test)"
   ]
  },
  {
   "cell_type": "code",
   "execution_count": null,
   "metadata": {},
   "outputs": [],
   "source": [
    "mse = np.mean(np.power(X_test - predictions_sin, 2), axis = 1)\n",
    "error_df = pd.DataFrame({'reconstruction_error':mse, 'true_class':y_test})\n",
    "fpr, tpr, thresholds = roc_curve(error_df.true_class, error_df.reconstruction_error)\n",
    "roc_auc = auc(fpr, tpr)\n",
    "error_df.describe()"
   ]
  },
  {
   "cell_type": "code",
   "execution_count": null,
   "metadata": {},
   "outputs": [],
   "source": [
    "threshold = 2.5\n",
    "y_pred = [1 if e > threshold else 0 for e in error_df.reconstruction_error.values]\n",
    "print(\"Accuracy: \", accuracy_score(y_test, y_pred))\n",
    "print(\"Recall: \", recall_score(y_test, y_pred))"
   ]
  },
  {
   "cell_type": "markdown",
   "metadata": {},
   "source": [
    "### Explanations"
   ]
  },
  {
   "cell_type": "markdown",
   "metadata": {},
   "source": [
    "Explanations algorithms are the same that the jn creditCardFraud_tfNN has because both are keras models."
   ]
  }
 ],
 "metadata": {
  "kernelspec": {
   "display_name": "Python 3",
   "language": "python",
   "name": "python3"
  },
  "language_info": {
   "codemirror_mode": {
    "name": "ipython",
    "version": 3
   },
   "file_extension": ".py",
   "mimetype": "text/x-python",
   "name": "python",
   "nbconvert_exporter": "python",
   "pygments_lexer": "ipython3",
   "version": "3.7.6"
  }
 },
 "nbformat": 4,
 "nbformat_minor": 2
}
