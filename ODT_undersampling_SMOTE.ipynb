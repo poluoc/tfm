{
 "cells": [
  {
   "cell_type": "code",
   "execution_count": null,
   "metadata": {},
   "outputs": [],
   "source": [
    "import pandas as pd\n",
    "from pyoptree.optree import OptimalHyperTreeModel, OptimalTreeModel\n",
    "\n",
    "from sklearn.metrics import accuracy_score\n",
    "from sklearn.model_selection import train_test_split\n",
    "from sklearn.preprocessing import LabelEncoder\n",
    "from sklearn.metrics import accuracy_score, f1_score, confusion_matrix, recall_score, precision_score, roc_curve, roc_auc_score"
   ]
  },
  {
   "cell_type": "code",
   "execution_count": null,
   "metadata": {},
   "outputs": [],
   "source": [
    "test_data_y = pd.read_csv(\"cardFraud_Y_test.csv\")\n",
    "test_data = pd.read_csv(\"cardFraud_X_test.csv\")\n",
    "test_data['Class'] = test_data_y\n",
    "test_data = test_data.set_axis([0,1,2,3,4,5,6,7,8,9,10,11,12,13,14,15,16,17,18,19,20,21,22,23,24,25,26,27,28,29], axis='columns', inplace=False)\n",
    "print(len(test_data))\n",
    "print(test_data[29].value_counts())\n",
    "test_data.head()"
   ]
  },
  {
   "cell_type": "code",
   "execution_count": null,
   "metadata": {},
   "outputs": [],
   "source": [
    "test_data.to_csv(\"test_data_creditCardFraud.csv\")"
   ]
  },
  {
   "cell_type": "markdown",
   "metadata": {},
   "source": [
    "### Undersampling"
   ]
  },
  {
   "cell_type": "code",
   "execution_count": null,
   "metadata": {},
   "outputs": [],
   "source": [
    "x_ud = pd.read_csv(\"cardFraud_X_train_undersampled.csv\")\n",
    "y_ud = pd.read_csv(\"cardFraud_Y_train_undersampled.csv\")\n",
    "data_ud = x_ud\n",
    "data_ud['Class'] = y_ud\n",
    "data_ud = data_ud.set_axis([0,1,2,3,4,5,6,7,8,9,10,11,12,13,14,15,16,17,18,19,20,21,22,23,24,25,26,27,28,29], axis='columns', inplace=False)\n",
    "print(len(data_ud))\n",
    "print(data_ud[29].value_counts())\n",
    "data_ud.head()"
   ]
  },
  {
   "cell_type": "code",
   "execution_count": null,
   "metadata": {},
   "outputs": [],
   "source": [
    "model_2 = OptimalHyperTreeModel([0,1,2,3,4,5,6,7,8,9,10,11,12,13,14,15,16,17,18,19,20,21,22,23,24,25,26,27,28], 29, tree_depth=2, N_min=1, alpha=0.1, solver_name=\"cplex\")\n",
    "model_3 = OptimalHyperTreeModel([0,1,2,3,4,5,6,7,8,9,10,11,12,13,14,15,16,17,18,19,20,21,22,23,24,25,26,27,28], 29, tree_depth=3, N_min=1, alpha=0.1, solver_name=\"cplex\")\n",
    "model_4 = OptimalHyperTreeModel([0,1,2,3,4,5,6,7,8,9,10,11,12,13,14,15,16,17,18,19,20,21,22,23,24,25,26,27,28], 29, tree_depth=4, N_min=1, alpha=0.1, solver_name=\"cplex\")\n",
    "model_5 = OptimalHyperTreeModel([0,1,2,3,4,5,6,7,8,9,10,11,12,13,14,15,16,17,18,19,20,21,22,23,24,25,26,27,28], 29, tree_depth=5, N_min=1, alpha=0.1, solver_name=\"cplex\")\n",
    "model_6 = OptimalHyperTreeModel([0,1,2,3,4,5,6,7,8,9,10,11,12,13,14,15,16,17,18,19,20,21,22,23,24,25,26,27,28], 29, tree_depth=6, N_min=1, alpha=0.1, solver_name=\"cplex\")"
   ]
  },
  {
   "cell_type": "code",
   "execution_count": null,
   "metadata": {},
   "outputs": [],
   "source": [
    "%%time\n",
    "model_2.train(data_ud, train_method=\"ls\")"
   ]
  },
  {
   "cell_type": "code",
   "execution_count": null,
   "metadata": {},
   "outputs": [],
   "source": [
    "predictions = model_2.predict(test_data)\n",
    "accuracy = accuracy_score(test_data[29].values, predictions['prediction'].values)\n",
    "recall = recall_score(test_data[29].values, predictions['prediction'].values)\n",
    "\n",
    "file2write=open(\"ODT_credicardFraud_und_2.txt\",'w')\n",
    "file2write.write(\"accuracy:\" + str(accuracy) + \" -- Recall:\" + str(recall))\n",
    "file2write.close()"
   ]
  },
  {
   "cell_type": "code",
   "execution_count": null,
   "metadata": {},
   "outputs": [],
   "source": [
    "%%time\n",
    "model_3.train(data_ud, train_method=\"ls\")"
   ]
  },
  {
   "cell_type": "code",
   "execution_count": null,
   "metadata": {},
   "outputs": [],
   "source": [
    "predictions = model_3.predict(test_data)\n",
    "accuracy = accuracy_score(test_data[29].values, predictions['prediction'].values)\n",
    "recall = recall_score(test_data[29].values, predictions['prediction'].values)\n",
    "\n",
    "file2write=open(\"ODT_credicardFraud_und_3.txt\",'w')\n",
    "file2write.write(\"accuracy:\" + str(accuracy) + \" -- Recall:\" + str(recall))\n",
    "file2write.close()"
   ]
  },
  {
   "cell_type": "code",
   "execution_count": null,
   "metadata": {},
   "outputs": [],
   "source": [
    "%%time\n",
    "model_4.train(data_ud, train_method=\"ls\")"
   ]
  },
  {
   "cell_type": "code",
   "execution_count": null,
   "metadata": {},
   "outputs": [],
   "source": [
    "predictions = model_4.predict(test_data)\n",
    "accuracy = accuracy_score(test_data[29].values, predictions['prediction'].values)\n",
    "recall = recall_score(test_data[29].values, predictions['prediction'].values)\n",
    "\n",
    "file2write=open(\"ODT_credicardFraud_und_4.txt\",'w')\n",
    "file2write.write(\"accuracy:\" + str(accuracy) + \" -- Recall:\" + str(recall))\n",
    "file2write.close()"
   ]
  },
  {
   "cell_type": "code",
   "execution_count": null,
   "metadata": {},
   "outputs": [],
   "source": [
    "%%time\n",
    "model_5.train(data_ud, train_method=\"ls\")"
   ]
  },
  {
   "cell_type": "code",
   "execution_count": null,
   "metadata": {},
   "outputs": [],
   "source": [
    "predictions = model_5.predict(test_data)\n",
    "accuracy = accuracy_score(test_data[29].values, predictions['prediction'].values)\n",
    "recall = recall_score(test_data[29].values, predictions['prediction'].values)\n",
    "\n",
    "file2write=open(\"ODT_credicardFraud_und_5.txt\",'w')\n",
    "file2write.write(\"accuracy:\" + str(accuracy) + \" -- Recall:\" + str(recall))\n",
    "file2write.close()"
   ]
  },
  {
   "cell_type": "code",
   "execution_count": null,
   "metadata": {},
   "outputs": [],
   "source": [
    "%%time\n",
    "model_6.train(data_ud, train_method=\"ls\")"
   ]
  },
  {
   "cell_type": "code",
   "execution_count": null,
   "metadata": {},
   "outputs": [],
   "source": [
    "predictions = model_6.predict(test_data)\n",
    "accuracy = accuracy_score(test_data[29].values, predictions['prediction'].values)\n",
    "recall = recall_score(test_data[29].values, predictions['prediction'].values)\n",
    "\n",
    "file2write=open(\"ODT_credicardFraud_und_6.txt\",'w')\n",
    "file2write.write(\"accuracy:\" + str(accuracy) + \" -- Recall:\" + str(recall))\n",
    "file2write.close()"
   ]
  },
  {
   "cell_type": "code",
   "execution_count": null,
   "metadata": {},
   "outputs": [],
   "source": [
    "model_7 = OptimalHyperTreeModel([0,1,2,3,4,5,6,7,8,9,10,11,12,13,14,15,16,17,18,19,20,21,22,23,24,25,26,27,28], 29, tree_depth=7, N_min=1, alpha=0.1, solver_name=\"cplex\")"
   ]
  },
  {
   "cell_type": "code",
   "execution_count": null,
   "metadata": {},
   "outputs": [],
   "source": [
    "%%time\n",
    "model_7.train(data_ud, train_method=\"ls\")"
   ]
  },
  {
   "cell_type": "code",
   "execution_count": null,
   "metadata": {},
   "outputs": [],
   "source": [
    "predictions = model_7.predict(test_data)\n",
    "accuracy = accuracy_score(test_data[29].values, predictions['prediction'].values)\n",
    "recall = recall_score(test_data[29].values, predictions['prediction'].values)\n",
    "\n",
    "file2write=open(\"ODT_credicardFraud_und_7.txt\",'w')\n",
    "file2write.write(\"accuracy:\" + str(accuracy) + \" -- Recall:\" + str(recall))\n",
    "file2write.close()"
   ]
  },
  {
   "cell_type": "code",
   "execution_count": null,
   "metadata": {},
   "outputs": [],
   "source": [
    "model_8 = OptimalHyperTreeModel([0,1,2,3,4,5,6,7,8,9,10,11,12,13,14,15,16,17,18,19,20,21,22,23,24,25,26,27,28], 29, tree_depth=8, N_min=1, alpha=0.1, solver_name=\"cplex\")"
   ]
  },
  {
   "cell_type": "code",
   "execution_count": null,
   "metadata": {},
   "outputs": [],
   "source": [
    "%%time\n",
    "model_8.train(data_ud, train_method=\"ls\")"
   ]
  },
  {
   "cell_type": "code",
   "execution_count": null,
   "metadata": {},
   "outputs": [],
   "source": [
    "predictions = model_8.predict(test_data)\n",
    "accuracy = accuracy_score(test_data[29].values, predictions['prediction'].values)\n",
    "recall = recall_score(test_data[29].values, predictions['prediction'].values)\n",
    "\n",
    "file2write=open(\"ODT_credicardFraud_und_8.txt\",'w')\n",
    "file2write.write(\"accuracy:\" + str(accuracy) + \" -- Recall:\" + str(recall))\n",
    "file2write.close()"
   ]
  },
  {
   "cell_type": "code",
   "execution_count": null,
   "metadata": {},
   "outputs": [],
   "source": [
    "model_9 = OptimalHyperTreeModel([0,1,2,3,4,5,6,7,8,9,10,11,12,13,14,15,16,17,18,19,20,21,22,23,24,25,26,27,28], 29, tree_depth=9, N_min=1, alpha=0.1, solver_name=\"cplex\")"
   ]
  },
  {
   "cell_type": "code",
   "execution_count": null,
   "metadata": {},
   "outputs": [],
   "source": [
    "%%time\n",
    "model_9.train(data_ud, train_method=\"ls\")"
   ]
  },
  {
   "cell_type": "code",
   "execution_count": null,
   "metadata": {},
   "outputs": [],
   "source": [
    "predictions = model_9.predict(test_data)\n",
    "accuracy = accuracy_score(test_data[29].values, predictions['prediction'].values)\n",
    "recall = recall_score(test_data[29].values, predictions['prediction'].values)\n",
    "\n",
    "file2write=open(\"ODT_credicardFraud_und_9.txt\",'w')\n",
    "file2write.write(\"accuracy:\" + str(accuracy) + \" -- Recall:\" + str(recall))\n",
    "file2write.close()"
   ]
  },
  {
   "cell_type": "code",
   "execution_count": null,
   "metadata": {},
   "outputs": [],
   "source": [
    "model_10 = OptimalHyperTreeModel([0,1,2,3,4,5,6,7,8,9,10,11,12,13,14,15,16,17,18,19,20,21,22,23,24,25,26,27,28], 29, tree_depth=10, N_min=1, alpha=0.1, solver_name=\"cplex\")"
   ]
  },
  {
   "cell_type": "code",
   "execution_count": null,
   "metadata": {},
   "outputs": [],
   "source": [
    "%%time\n",
    "model_10.train(data_ud, train_method=\"ls\")"
   ]
  },
  {
   "cell_type": "code",
   "execution_count": null,
   "metadata": {},
   "outputs": [],
   "source": [
    "predictions = model_10.predict(test_data)\n",
    "accuracy = accuracy_score(test_data[29].values, predictions['prediction'].values)\n",
    "recall = recall_score(test_data[29].values, predictions['prediction'].values)\n",
    "\n",
    "file2write=open(\"ODT_credicardFraud_und_10.txt\",'w')\n",
    "file2write.write(\"accuracy:\" + str(accuracy) + \" -- Recall:\" + str(recall))\n",
    "file2write.close()"
   ]
  },
  {
   "cell_type": "markdown",
   "metadata": {},
   "source": [
    "### Oversampling SMOTE"
   ]
  },
  {
   "cell_type": "code",
   "execution_count": null,
   "metadata": {},
   "outputs": [],
   "source": [
    "x_sin = pd.read_csv(\"cardFraud_X_train_oversampled_syntethic.csv\")\n",
    "y_sin = pd.read_csv(\"cardFraud_Y_train_oversampled_syntethic.csv\")\n",
    "data_sin = x_sin\n",
    "data_sin['Class'] = y_sin\n",
    "data_sin = data_sin.set_axis([0,1,2,3,4,5,6,7,8,9,10,11,12,13,14,15,16,17,18,19,20,21,22,23,24,25,26,27,28,29], axis='columns', inplace=False)\n",
    "tmp1 = data_sin[data_sin[29] == 0]\n",
    "tmp2 = data_sin[data_sin[29] == 1]\n",
    "tmp = [tmp1[450:900], tmp2[450:900]]\n",
    "data_sin = pd.concat(tmp)\n",
    "print(len(data_sin))\n",
    "print(data_sin[29].value_counts())\n",
    "data_sin.head()"
   ]
  },
  {
   "cell_type": "code",
   "execution_count": null,
   "metadata": {},
   "outputs": [],
   "source": [
    "modelsin_2 = OptimalHyperTreeModel([0,1,2,3,4,5,6,7,8,9,10,11,12,13,14,15,16,17,18,19,20,21,22,23,24,25,26,27,28], 29, tree_depth=2, N_min=1, alpha=0.1, solver_name=\"cplex\")\n",
    "modelsin_3 = OptimalHyperTreeModel([0,1,2,3,4,5,6,7,8,9,10,11,12,13,14,15,16,17,18,19,20,21,22,23,24,25,26,27,28], 29, tree_depth=3, N_min=1, alpha=0.1, solver_name=\"cplex\")\n",
    "modelsin_4 = OptimalHyperTreeModel([0,1,2,3,4,5,6,7,8,9,10,11,12,13,14,15,16,17,18,19,20,21,22,23,24,25,26,27,28], 29, tree_depth=4, N_min=1, alpha=0.1, solver_name=\"cplex\")\n",
    "modelsin_5 = OptimalHyperTreeModel([0,1,2,3,4,5,6,7,8,9,10,11,12,13,14,15,16,17,18,19,20,21,22,23,24,25,26,27,28], 29, tree_depth=5, N_min=1, alpha=0.1, solver_name=\"cplex\")\n",
    "modelsin_6 = OptimalHyperTreeModel([0,1,2,3,4,5,6,7,8,9,10,11,12,13,14,15,16,17,18,19,20,21,22,23,24,25,26,27,28], 29, tree_depth=6, N_min=1, alpha=0.1, solver_name=\"cplex\")"
   ]
  },
  {
   "cell_type": "code",
   "execution_count": null,
   "metadata": {},
   "outputs": [],
   "source": [
    "%%time\n",
    "modelsin_2.train(data_sin, train_method=\"ls\")"
   ]
  },
  {
   "cell_type": "code",
   "execution_count": null,
   "metadata": {},
   "outputs": [],
   "source": [
    "predictions = modelsin_2.predict(test_data)\n",
    "accuracy = accuracy_score(test_data[29].values, predictions['prediction'].values)\n",
    "recall = recall_score(test_data[29].values, predictions['prediction'].values)\n",
    "\n",
    "file2write=open(\"ODT_credicardFraud_oversampling_sin_2.txt\",'w')\n",
    "file2write.write(\"accuracy:\" + str(accuracy) + \" -- Recall:\" + str(recall))\n",
    "file2write.close()"
   ]
  },
  {
   "cell_type": "code",
   "execution_count": null,
   "metadata": {},
   "outputs": [],
   "source": [
    "%%time\n",
    "modelsin_3.train(data_sin, train_method=\"ls\")"
   ]
  },
  {
   "cell_type": "code",
   "execution_count": null,
   "metadata": {},
   "outputs": [],
   "source": [
    "predictions = modelsin_3.predict(test_data)\n",
    "accuracy = accuracy_score(test_data[29].values, predictions['prediction'].values)\n",
    "recall = recall_score(test_data[29].values, predictions['prediction'].values)\n",
    "\n",
    "file2write=open(\"ODT_credicardFraud_oversamplingsin_3.txt\",'w')\n",
    "file2write.write(\"accuracy:\" + str(accuracy) + \" -- Recall:\" + str(recall))\n",
    "file2write.close()"
   ]
  },
  {
   "cell_type": "code",
   "execution_count": null,
   "metadata": {},
   "outputs": [],
   "source": [
    "%%time\n",
    "modelsin_4.train(data_sin, train_method=\"ls\")"
   ]
  },
  {
   "cell_type": "code",
   "execution_count": null,
   "metadata": {},
   "outputs": [],
   "source": [
    "predictions = modelsin_4.predict(test_data)\n",
    "accuracy = accuracy_score(test_data[29].values, predictions['prediction'].values)\n",
    "recall = recall_score(test_data[29].values, predictions['prediction'].values)\n",
    "\n",
    "file2write=open(\"ODT_credicardFraud_oversamplingsin_4.txt\",'w')\n",
    "file2write.write(\"accuracy:\" + str(accuracy) + \" -- Recall:\" + str(recall))\n",
    "file2write.close()"
   ]
  },
  {
   "cell_type": "code",
   "execution_count": null,
   "metadata": {},
   "outputs": [],
   "source": [
    "%%time\n",
    "modelsin_5.train(data_sin, train_method=\"ls\")"
   ]
  },
  {
   "cell_type": "code",
   "execution_count": null,
   "metadata": {},
   "outputs": [],
   "source": [
    "predictions = modelsin_5.predict(test_data)\n",
    "accuracy = accuracy_score(test_data[29].values, predictions['prediction'].values)\n",
    "recall = recall_score(test_data[29].values, predictions['prediction'].values)\n",
    "\n",
    "file2write=open(\"ODT_credicardFraud_oversamplingsin_5.txt\",'w')\n",
    "file2write.write(\"accuracy:\" + str(accuracy) + \" -- Recall:\" + str(recall))\n",
    "file2write.close()"
   ]
  },
  {
   "cell_type": "code",
   "execution_count": null,
   "metadata": {},
   "outputs": [],
   "source": [
    "%%time\n",
    "modelsin_6.train(data_sin, train_method=\"ls\")"
   ]
  },
  {
   "cell_type": "code",
   "execution_count": null,
   "metadata": {},
   "outputs": [],
   "source": [
    "predictions = modelsin_6.predict(test_data)\n",
    "accuracy = accuracy_score(test_data[29].values, predictions['prediction'].values)\n",
    "recall = recall_score(test_data[29].values, predictions['prediction'].values)\n",
    "\n",
    "file2write=open(\"ODT_credicardFraud_oversamplingsin_6.txt\",'w')\n",
    "file2write.write(\"accuracy:\" + str(accuracy) + \" -- Recall:\" + str(recall))\n",
    "file2write.close()"
   ]
  },
  {
   "cell_type": "code",
   "execution_count": null,
   "metadata": {},
   "outputs": [],
   "source": [
    "modelsin_7 = OptimalHyperTreeModel([0,1,2,3,4,5,6,7,8,9,10,11,12,13,14,15,16,17,18,19,20,21,22,23,24,25,26,27,28], 29, tree_depth=7, N_min=1, alpha=0.1, solver_name=\"cplex\")"
   ]
  },
  {
   "cell_type": "code",
   "execution_count": null,
   "metadata": {},
   "outputs": [],
   "source": [
    "%%time\n",
    "modelsin_7.train(data_sin, train_method=\"ls\")"
   ]
  },
  {
   "cell_type": "code",
   "execution_count": null,
   "metadata": {},
   "outputs": [],
   "source": [
    "predictions = modelsin_7.predict(test_data)\n",
    "accuracy = accuracy_score(test_data[29].values, predictions['prediction'].values)\n",
    "recall = recall_score(test_data[29].values, predictions['prediction'].values)\n",
    "\n",
    "file2write=open(\"ODT_credicardFraud_oversamplingsin_7.txt\",'w')\n",
    "file2write.write(\"accuracy:\" + str(accuracy) + \" -- Recall:\" + str(recall))\n",
    "file2write.close()"
   ]
  },
  {
   "cell_type": "code",
   "execution_count": null,
   "metadata": {},
   "outputs": [],
   "source": [
    "modelsin_8 = OptimalHyperTreeModel([0,1,2,3,4,5,6,7,8,9,10,11,12,13,14,15,16,17,18,19,20,21,22,23,24,25,26,27,28], 29, tree_depth=8, N_min=1, alpha=0.1, solver_name=\"cplex\")"
   ]
  },
  {
   "cell_type": "code",
   "execution_count": null,
   "metadata": {},
   "outputs": [],
   "source": [
    "%%time\n",
    "modelsin_8.train(data_sin, train_method=\"ls\")"
   ]
  },
  {
   "cell_type": "code",
   "execution_count": null,
   "metadata": {},
   "outputs": [],
   "source": [
    "predictions = modelsin_8.predict(test_data)\n",
    "accuracy = accuracy_score(test_data[29].values, predictions['prediction'].values)\n",
    "recall = recall_score(test_data[29].values, predictions['prediction'].values)\n",
    "\n",
    "file2write=open(\"ODT_credicardFraud_oversamplingsin_8.txt\",'w')\n",
    "file2write.write(\"accuracy:\" + str(accuracy) + \" -- Recall:\" + str(recall))\n",
    "file2write.close()"
   ]
  },
  {
   "cell_type": "code",
   "execution_count": null,
   "metadata": {},
   "outputs": [],
   "source": [
    "modelsin_10 = OptimalHyperTreeModel([0,1,2,3,4,5,6,7,8,9,10,11,12,13,14,15,16,17,18,19,20,21,22,23,24,25,26,27,28], 29, tree_depth=10, N_min=1, alpha=0.1, solver_name=\"cplex\")"
   ]
  },
  {
   "cell_type": "code",
   "execution_count": null,
   "metadata": {},
   "outputs": [],
   "source": [
    "%%time\n",
    "modelsin_10.train(data_sin, train_method=\"ls\")"
   ]
  },
  {
   "cell_type": "code",
   "execution_count": null,
   "metadata": {},
   "outputs": [],
   "source": [
    "predictions = modelsin_10.predict(test_data)\n",
    "accuracy = accuracy_score(test_data[29].values, predictions['prediction'].values)\n",
    "recall = recall_score(test_data[29].values, predictions['prediction'].values)\n",
    "\n",
    "file2write=open(\"ODT_credicardFraud_oversamplingsin_10.txt\",'w')\n",
    "file2write.write(\"accuracy:\" + str(accuracy) + \" -- Recall:\" + str(recall))\n",
    "file2write.close()"
   ]
  }
 ],
 "metadata": {
  "kernelspec": {
   "display_name": "Python 3",
   "language": "python",
   "name": "python3"
  },
  "language_info": {
   "codemirror_mode": {
    "name": "ipython",
    "version": 3
   },
   "file_extension": ".py",
   "mimetype": "text/x-python",
   "name": "python",
   "nbconvert_exporter": "python",
   "pygments_lexer": "ipython3",
   "version": "3.7.6"
  }
 },
 "nbformat": 4,
 "nbformat_minor": 4
}
